{
 "cells": [
  {
   "cell_type": "code",
   "execution_count": 1,
   "metadata": {},
   "outputs": [
    {
     "name": "stdout",
     "output_type": "stream",
     "text": [
      "2.6.2\n"
     ]
    }
   ],
   "source": [
    "import os\n",
    "os.environ[\"PADDLE_LOG_LEVEL\"] = \"ERROR\"\n",
    "import paddle\n",
    "print(paddle.__version__)"
   ]
  },
  {
   "cell_type": "code",
   "execution_count": null,
   "metadata": {},
   "outputs": [],
   "source": [
    "import numpy as np\n",
    "from paddle.vision.transforms import Normalize\n",
    "from paddle.vision.datasets import MNIST\n",
    "from paddle.vision.models import LeNet\n",
    "\n",
    "# 下载数据集并初始化 DataSet\n",
    "transform = Normalize(mean=[127.5], std=[127.5], data_format='CHW')\n",
    "train_dataset = MNIST(mode='train', transform=transform)\n",
    "test_dataset = MNIST(mode='test', transform=transform)\n",
    "\n",
    "# 模型组网并初始化网络\n",
    "leNet = LeNet(num_classes=10)\n",
    "model = paddle.Model(leNet)\n",
    "\n",
    "# 模型训练的配置准备，准备损失函数，优化器和评价指标\n",
    "model.prepare(\n",
    "    paddle.optimizer.Adam(parameters=model.parameters()),\n",
    "    paddle.nn.CrossEntropyLoss(),\n",
    "    paddle.metric.Accuracy()\n",
    ")\n",
    "\n",
    "# 模型训练\n",
    "model.fit(train_dataset, epochs=5, batch_size=64, verbose=1)\n",
    "# 模型评估\n",
    "model.evaluate(test_dataset, batch_size=64, verbose=1)\n",
    "# 保存模型\n",
    "model.save('./output/mnist')"
   ]
  },
  {
   "cell_type": "code",
   "execution_count": 3,
   "metadata": {},
   "outputs": [],
   "source": [
    "# 加载模型\n",
    "model.load('./output/mnist')"
   ]
  },
  {
   "cell_type": "code",
   "execution_count": null,
   "metadata": {},
   "outputs": [],
   "source": [
    "# 从测试集中取出数据\n",
    "img, label = test_dataset[5]\n",
    "img_batch = np.expand_dims(img.astype('float32'), axis=0)\n",
    "\n",
    "# 执行推理并打印结果，predict_batch 返回一个 list，取出其中数据获得预测结果\n",
    "out = model.predict_batch(img_batch)[0]\n",
    "pred_label = out.argmax()\n",
    "print(\"true label: {}, pred label: {}\".format(label[0], pred_label))\n",
    "\n",
    "# 可视化图片\n",
    "from matplotlib import pyplot as plt\n",
    "plt.imshow(img[0])"
   ]
  },
  {
   "cell_type": "code",
   "execution_count": 7,
   "metadata": {},
   "outputs": [
    {
     "name": "stdout",
     "output_type": "stream",
     "text": [
      "coroutine2\n",
      "coroutine1\n",
      "coroutine1 complete\n",
      "coroutine2 complete\n"
     ]
    }
   ],
   "source": [
    "import asyncio\n",
    "\n",
    "async def coroutine1():\n",
    "    await asyncio.sleep(2)\n",
    "    print('coroutine1')\n",
    "    return 'coroutine1 complete'\n",
    "\n",
    "async def coroutine2():\n",
    "    await asyncio.sleep(1)\n",
    "    print('coroutine2')\n",
    "    return 'coroutine2 complete'\n",
    "\n",
    "async def main():\n",
    "    task1 = asyncio.create_task(coroutine1())\n",
    "    task2 = asyncio.create_task(coroutine2())\n",
    "\n",
    "    print(await task1)\n",
    "    print(await task2)\n",
    "\n",
    "await (main())"
   ]
  }
 ],
 "metadata": {
  "kernelspec": {
   "display_name": "paddle",
   "language": "python",
   "name": "python3"
  },
  "language_info": {
   "codemirror_mode": {
    "name": "ipython",
    "version": 3
   },
   "file_extension": ".py",
   "mimetype": "text/x-python",
   "name": "python",
   "nbconvert_exporter": "python",
   "pygments_lexer": "ipython3",
   "version": "3.12.9"
  }
 },
 "nbformat": 4,
 "nbformat_minor": 2
}
